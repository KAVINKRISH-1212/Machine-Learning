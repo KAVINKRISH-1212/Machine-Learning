{
 "cells": [
  {
   "cell_type": "code",
   "execution_count": 1,
   "id": "spare-revision",
   "metadata": {},
   "outputs": [],
   "source": [
    "import numpy as np\n",
    "import pandas as pd\n",
    "from sklearn.preprocessing import LabelEncoder\n",
    "from sklearn.preprocessing import OneHotEncoder\n",
    "from sklearn.linear_model import LinearRegression"
   ]
  },
  {
   "cell_type": "code",
   "execution_count": 2,
   "id": "invisible-afghanistan",
   "metadata": {},
   "outputs": [],
   "source": [
    "dataset = pd.read_csv('./dataset/50_Startups.csv')"
   ]
  },
  {
   "cell_type": "code",
   "execution_count": 3,
   "id": "religious-geography",
   "metadata": {},
   "outputs": [
    {
     "data": {
      "text/html": [
       "<div>\n",
       "<style scoped>\n",
       "    .dataframe tbody tr th:only-of-type {\n",
       "        vertical-align: middle;\n",
       "    }\n",
       "\n",
       "    .dataframe tbody tr th {\n",
       "        vertical-align: top;\n",
       "    }\n",
       "\n",
       "    .dataframe thead th {\n",
       "        text-align: right;\n",
       "    }\n",
       "</style>\n",
       "<table border=\"1\" class=\"dataframe\">\n",
       "  <thead>\n",
       "    <tr style=\"text-align: right;\">\n",
       "      <th></th>\n",
       "      <th>R&amp;D Spend</th>\n",
       "      <th>Administration</th>\n",
       "      <th>Marketing Spend</th>\n",
       "      <th>State</th>\n",
       "      <th>Profit</th>\n",
       "    </tr>\n",
       "  </thead>\n",
       "  <tbody>\n",
       "    <tr>\n",
       "      <th>0</th>\n",
       "      <td>165349.20</td>\n",
       "      <td>136897.80</td>\n",
       "      <td>471784.10</td>\n",
       "      <td>New York</td>\n",
       "      <td>192261.83</td>\n",
       "    </tr>\n",
       "    <tr>\n",
       "      <th>1</th>\n",
       "      <td>162597.70</td>\n",
       "      <td>151377.59</td>\n",
       "      <td>443898.53</td>\n",
       "      <td>California</td>\n",
       "      <td>191792.06</td>\n",
       "    </tr>\n",
       "    <tr>\n",
       "      <th>2</th>\n",
       "      <td>153441.51</td>\n",
       "      <td>101145.55</td>\n",
       "      <td>407934.54</td>\n",
       "      <td>Florida</td>\n",
       "      <td>191050.39</td>\n",
       "    </tr>\n",
       "    <tr>\n",
       "      <th>3</th>\n",
       "      <td>144372.41</td>\n",
       "      <td>118671.85</td>\n",
       "      <td>383199.62</td>\n",
       "      <td>New York</td>\n",
       "      <td>182901.99</td>\n",
       "    </tr>\n",
       "    <tr>\n",
       "      <th>4</th>\n",
       "      <td>142107.34</td>\n",
       "      <td>91391.77</td>\n",
       "      <td>366168.42</td>\n",
       "      <td>Florida</td>\n",
       "      <td>166187.94</td>\n",
       "    </tr>\n",
       "  </tbody>\n",
       "</table>\n",
       "</div>"
      ],
      "text/plain": [
       "   R&D Spend  Administration  Marketing Spend       State     Profit\n",
       "0  165349.20       136897.80        471784.10    New York  192261.83\n",
       "1  162597.70       151377.59        443898.53  California  191792.06\n",
       "2  153441.51       101145.55        407934.54     Florida  191050.39\n",
       "3  144372.41       118671.85        383199.62    New York  182901.99\n",
       "4  142107.34        91391.77        366168.42     Florida  166187.94"
      ]
     },
     "execution_count": 3,
     "metadata": {},
     "output_type": "execute_result"
    }
   ],
   "source": [
    "dataset.head()"
   ]
  },
  {
   "cell_type": "code",
   "execution_count": 4,
   "id": "structural-yorkshire",
   "metadata": {},
   "outputs": [],
   "source": [
    "y=dataset['Profit']"
   ]
  },
  {
   "cell_type": "code",
   "execution_count": 5,
   "id": "wicked-minneapolis",
   "metadata": {},
   "outputs": [],
   "source": [
    "x=dataset[['R&D Spend', 'Administration', 'Marketing Spend', 'State']]"
   ]
  },
  {
   "cell_type": "code",
   "execution_count": 6,
   "id": "julian-nickel",
   "metadata": {},
   "outputs": [],
   "source": [
    "state=dataset['State']"
   ]
  },
  {
   "cell_type": "code",
   "execution_count": 7,
   "id": "handmade-administrator",
   "metadata": {},
   "outputs": [],
   "source": [
    "#Label Encoding\n",
    "le=LabelEncoder()\n",
    "state=le.fit_transform(state)"
   ]
  },
  {
   "cell_type": "code",
   "execution_count": 8,
   "id": "classical-technical",
   "metadata": {},
   "outputs": [],
   "source": [
    "state=state.reshape(-1,1) #converting 1D--->2D"
   ]
  },
  {
   "cell_type": "code",
   "execution_count": 9,
   "id": "czech-assets",
   "metadata": {},
   "outputs": [],
   "source": [
    "#OneHotEncoding\n",
    "ohe=OneHotEncoder()\n",
    "state_dummy=ohe.fit_transform(state)"
   ]
  },
  {
   "cell_type": "code",
   "execution_count": 10,
   "id": "least-humor",
   "metadata": {},
   "outputs": [
    {
     "data": {
      "text/plain": [
       "scipy.sparse.csr.csr_matrix"
      ]
     },
     "execution_count": 10,
     "metadata": {},
     "output_type": "execute_result"
    }
   ],
   "source": [
    "type(state_dummy)"
   ]
  },
  {
   "cell_type": "code",
   "execution_count": 11,
   "id": "greenhouse-month",
   "metadata": {},
   "outputs": [],
   "source": [
    "state_final=state_dummy.toarray()"
   ]
  },
  {
   "cell_type": "code",
   "execution_count": 12,
   "id": "common-asian",
   "metadata": {},
   "outputs": [
    {
     "data": {
      "text/plain": [
       "numpy.ndarray"
      ]
     },
     "execution_count": 12,
     "metadata": {},
     "output_type": "execute_result"
    }
   ],
   "source": [
    "type(state_final)"
   ]
  },
  {
   "cell_type": "code",
   "execution_count": 13,
   "id": "secret-apple",
   "metadata": {},
   "outputs": [],
   "source": [
    "#removing one column inorder to overcome from dummyvariable trap\n",
    "state_final = np.delete(state_final,2,1)"
   ]
  },
  {
   "cell_type": "code",
   "execution_count": 14,
   "id": "tight-tribe",
   "metadata": {},
   "outputs": [],
   "source": [
    "x=x.values #converting from pandas to numpyarray"
   ]
  },
  {
   "cell_type": "code",
   "execution_count": 15,
   "id": "specialized-radiation",
   "metadata": {},
   "outputs": [
    {
     "data": {
      "text/plain": [
       "numpy.ndarray"
      ]
     },
     "execution_count": 15,
     "metadata": {},
     "output_type": "execute_result"
    }
   ],
   "source": [
    "type(x)"
   ]
  },
  {
   "cell_type": "code",
   "execution_count": 16,
   "id": "fabulous-sheet",
   "metadata": {},
   "outputs": [],
   "source": [
    "x_final=np.hstack((x,state_final))\n",
    "x_final=np.delete(x_final,3,1)"
   ]
  },
  {
   "cell_type": "code",
   "execution_count": 17,
   "id": "immune-scenario",
   "metadata": {},
   "outputs": [],
   "source": [
    "model=LinearRegression()\n"
   ]
  },
  {
   "cell_type": "code",
   "execution_count": 18,
   "id": "experienced-willow",
   "metadata": {},
   "outputs": [
    {
     "data": {
      "text/plain": [
       "LinearRegression()"
      ]
     },
     "execution_count": 18,
     "metadata": {},
     "output_type": "execute_result"
    }
   ],
   "source": [
    "model.fit(x_final,y)"
   ]
  },
  {
   "cell_type": "code",
   "execution_count": 19,
   "id": "related-acting",
   "metadata": {},
   "outputs": [
    {
     "data": {
      "text/plain": [
       "array([ 8.06023114e-01, -2.70043196e-02,  2.69798610e-02,  4.18870191e+01,\n",
       "        2.40675812e+02])"
      ]
     },
     "execution_count": 19,
     "metadata": {},
     "output_type": "execute_result"
    }
   ],
   "source": [
    "model.coef_"
   ]
  }
 ],
 "metadata": {
  "kernelspec": {
   "display_name": "Python 3",
   "language": "python",
   "name": "python3"
  },
  "language_info": {
   "codemirror_mode": {
    "name": "ipython",
    "version": 3
   },
   "file_extension": ".py",
   "mimetype": "text/x-python",
   "name": "python",
   "nbconvert_exporter": "python",
   "pygments_lexer": "ipython3",
   "version": "3.8.8"
  }
 },
 "nbformat": 4,
 "nbformat_minor": 5
}
